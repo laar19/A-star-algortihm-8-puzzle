{
  "nbformat": 4,
  "nbformat_minor": 0,
  "metadata": {
    "colab": {
      "name": "algoritmo A estrella - 8 puzzle.ipynb",
      "version": "0.3.2",
      "provenance": [],
      "collapsed_sections": []
    },
    "language_info": {
      "codemirror_mode": {
        "name": "ipython",
        "version": 3
      },
      "file_extension": ".py",
      "mimetype": "text/x-python",
      "name": "python",
      "nbconvert_exporter": "python",
      "pygments_lexer": "ipython3",
      "version": "3.7.1"
    },
    "kernelspec": {
      "display_name": "Python 3",
      "language": "python",
      "name": "python3"
    }
  },
  "cells": [
    {
      "cell_type": "markdown",
      "metadata": {
        "colab_type": "text",
        "id": "_4ExG6ycQ2nX"
      },
      "source": [
        "# A* (A estrella) 8 Puzzle"
      ]
    },
    {
      "cell_type": "code",
      "metadata": {
        "colab_type": "code",
        "id": "mrEcWTzrQ2ne",
        "colab": {}
      },
      "source": [
        "from copy import deepcopy # Se utiliza para hacer una copia exacta de una matriz multidimensional"
      ],
      "execution_count": 0,
      "outputs": []
    },
    {
      "cell_type": "markdown",
      "metadata": {
        "id": "Ct3bh5lXgFk8",
        "colab_type": "text"
      },
      "source": [
        "### Abstracción de cada uno de los estados (nodos)"
      ]
    },
    {
      "cell_type": "code",
      "metadata": {
        "colab_type": "code",
        "id": "egXabezzQ2ns",
        "colab": {}
      },
      "source": [
        "class Estado:\n",
        "    def __init__(self, camino, matriz, padre=None, g=None, h=None, f=None):\n",
        "        self.camino = camino # Arriba, abajo, derecha, izquierda\n",
        "        self.matriz = matriz # Guarda el Estado (matriz completa), con el desplazamiento hecho\n",
        "        self.padre = padre   # Estado del cual proviene\n",
        "        self.g = g           # Función de costo\n",
        "        self.h = h           # Heurística\n",
        "        self.f = f           # Función de evaluación\n",
        "        \n",
        "    # Calcula la heurística del estado (nodo) con respecto al estado objetivo\n",
        "    def calcula_heuristica(self, matriz_objetivo):\n",
        "        self.h = 0\n",
        "        \n",
        "        # Para cada casilla del estado actual, si su posición es distinta a la correspondiente\n",
        "        # en el estado objetivo, incrementa en 1 la heurística\n",
        "        for i in range(0, len(self.matriz)):\n",
        "            for j in range(0, len(self.matriz[i])):\n",
        "                if self.matriz[i][j] != matriz_objetivo[i][j]:\n",
        "                    self.h += 1\n",
        "\n",
        "    # Función de evaluación\n",
        "    def calcula_f(self, matriz_objetivo):\n",
        "        self.calcula_heuristica(matriz_objetivo)\n",
        "        self.f = self.g + self.h\n",
        "    \n",
        "    # Verifica si la heurística es igual a cero, entonces se habrá encontrado una solución\n",
        "    def solucion(self):\n",
        "        if self.h == 0:\n",
        "            return True\n",
        "        else:\n",
        "            return False        \n",
        "                \n",
        "    # Calcula los futuros movimientos de la casilla en blanco, es decir, expande el nodo (estado) actual\n",
        "    def expandir(self, nodo):\n",
        "        lista_temporal = list()\n",
        "        x, y = localiza_nodo_objetivo(self.matriz, nodo) # Guarda las coordenadas (x, y) de la casilla en blanco\n",
        "\n",
        "        # Mueve la casilla en blanco hacia arriba\n",
        "        try:\n",
        "            estado_norte = deepcopy(self.matriz)                            # Hace una copia de la matriz, para calcular el nuevo movimiento\n",
        "            aux = estado_norte[x][y]                                        # Hace una copia de la casilla en blanco\n",
        "            if x-1 < 0:                                                     # Verifica que no exceda las filas ni las columnas de la matriz\n",
        "                raise IndexError\n",
        "            else:\n",
        "                estado_norte[x][y] = estado_norte[x-1][y]                   # Intercambia la casilla en blanco por la casilla de arriba\n",
        "                estado_norte[x-1][y] = aux                                  # Intercambia la casilla de arriba por la casilla en blanco\n",
        "                lista_temporal.append(Estado(\"arriba\", estado_norte, self)) # Guarda el estado en la lista (camino, matriz y padre)\n",
        "        except IndexError:\n",
        "            estado_norte = [[None]]\n",
        "\n",
        "        # Mueve la casilla en blanco hacia abajo\n",
        "        try:\n",
        "            estado_sur = deepcopy(self.matriz)                           # Hace una copia de la matriz, para calcular el nuevo movimiento\n",
        "            aux = estado_sur[x][y]                                       # Hace una copia de la casilla en blanco\n",
        "            if x+1 > 2:                                                  # Verifica que no exceda las filas ni las columnas de la matriz\n",
        "                raise IndexError\n",
        "            else:\n",
        "                estado_sur[x][y] = estado_sur[x+1][y]                    # Intercambia la casilla en blanco por la casilla de abajo\n",
        "                estado_sur[x+1][y] = aux                                 # Intercambia la casilla de abajo por la casilla en blanco\n",
        "                lista_temporal.append(Estado(\"abajo\", estado_sur, self)) # Guarda el estado en la lista (camino, matriz y padre)\n",
        "        except IndexError:\n",
        "            estado_sur = [[None]]\n",
        "\n",
        "        # Mueve la casilla en blanco hacia la izquierda\n",
        "        try:\n",
        "            estado_oeste = deepcopy(self.matriz)                               # Hace una copia de la matriz, para calcular el nuevo movimiento\n",
        "            aux = estado_oeste[x][y]                                           # Hace una copia de la casilla en blanco\n",
        "            if y-1 < 0:                                                        # Verifica que no exceda las filas ni las columnas de la matriz\n",
        "                raise IndexError\n",
        "            else:\n",
        "                estado_oeste[x][y] = estado_oeste[x][y-1]                      # Intercambia la casilla en blanco por la casilla izquierda\n",
        "                estado_oeste[x][y-1] = aux                                     # Intercambia la casilla izquierda por la casilla en blanco\n",
        "                lista_temporal.append(Estado(\"izquierda\", estado_oeste, self)) # Guarda el estado en la lista (camino, matriz y padre)\n",
        "        except IndexError:\n",
        "            estado_oeste = [[None]]\n",
        "\n",
        "        # Mueve la casilla en blanco hacia la derecha\n",
        "        try:\n",
        "            estado_este = deepcopy(self.matriz)                             # Hace una copia de la matriz, para calcular el nuevo movimiento\n",
        "            aux = estado_este[x][y]                                         # Hace una copia de la casilla en blanco\n",
        "            if y+1 > 2:                                                     # Verifica que no exceda las filas ni las columnas de la matriz\n",
        "                raise IndexError\n",
        "            else:\n",
        "                estado_este[x][y] = estado_este[x][y+1]                     # Intercambia la casilla en blanco por la casilla derecha\n",
        "                estado_este[x][y+1] = aux                                   # Intercambia la casilla derecha por la casilla en blanco\n",
        "                lista_temporal.append(Estado(\"derecha\", estado_este, self)) # Guarda el estado en la lista (camino, matriz y padre)\n",
        "        except IndexError:\n",
        "            estado_este = [[None]]\n",
        "\n",
        "        return lista_temporal"
      ],
      "execution_count": 0,
      "outputs": []
    },
    {
      "cell_type": "markdown",
      "metadata": {
        "id": "EwvqYbjggFl6",
        "colab_type": "text"
      },
      "source": [
        "### Funciones auxiliares"
      ]
    },
    {
      "cell_type": "code",
      "metadata": {
        "id": "yEnPnkElgFmI",
        "colab_type": "code",
        "colab": {}
      },
      "source": [
        "# Dada la casilla en blanco, se obtienen sus coordenadas (x, y) para luego calcular sus futuros movimientos\n",
        "def localiza_nodo_objetivo(matriz, nodo):\n",
        "    for i in range(0, len(matriz)):\n",
        "        for j in range(0, len(matriz[i])):\n",
        "            if matriz[i][j] == nodo:\n",
        "                return i, j"
      ],
      "execution_count": 0,
      "outputs": []
    },
    {
      "cell_type": "code",
      "metadata": {
        "id": "_m9bd5-QgFmw",
        "colab_type": "code",
        "colab": {}
      },
      "source": [
        "# Retorna el estado (nodo) con la mínima función de costo\n",
        "def obtiene_min_f(lista):\n",
        "    # Calcula el menorcosto de cada uno de los estados (nodos) expandidos\n",
        "    nodo_min_f = lista[0]\n",
        "    for i in lista:        \n",
        "        if i.f < nodo_min_f.f:\n",
        "            nodo_min_f = i\n",
        "    return nodo_min_f"
      ],
      "execution_count": 0,
      "outputs": []
    },
    {
      "cell_type": "markdown",
      "metadata": {
        "colab_type": "text",
        "id": "7vv5CcAVXrl2"
      },
      "source": [
        "### Funciones de validación, verifican si la matriz es resoluble"
      ]
    },
    {
      "cell_type": "code",
      "metadata": {
        "colab_type": "code",
        "id": "T9cQDlDAXvKC",
        "colab": {}
      },
      "source": [
        "# Abstracción de cada una de las casillas de la matriz\n",
        "class Nodo:\n",
        "    def __init__(self, nodo, menores=list()):\n",
        "        self.nodo = nodo       # Casilla en si\n",
        "        self.menores = menores # Casillas siguientes menores\n",
        "    \n",
        "# Instancia cada una de las casillas y las almacena en una lista\n",
        "def instanciar(matriz, lista):\n",
        "    for i in matriz:\n",
        "        for j in i:\n",
        "            j = Nodo(j)\n",
        "            lista.append(j)\n",
        "            \n",
        "# Convierte la matriz en un arreglo unidimensional para faciliar la búsqueda de los \"menores siguientes\"\n",
        "def convierte_a_1d(matriz, lista):\n",
        "    for i in matriz:\n",
        "        for j in i:\n",
        "            lista.append(j)\n",
        "\n",
        "# Retorna las casillas siguientes menores a la casilla objetivo\n",
        "def retorna_menores(nodo, matriz):\n",
        "    menores = list()\n",
        "    \n",
        "    for i in range(matriz.index(nodo), len(matriz)):\n",
        "        if matriz[i] < nodo:\n",
        "            menores.append(matriz[i])\n",
        "    return menores\n",
        "\n",
        "# Calcula la distancia Manhattan entre la casilla de origen y la casilla objetivo\n",
        "def calc_dist_manhattan(nodo_origen, nodo_destino, matriz):\n",
        "    x_origen, y_origen = localiza_nodo_objetivo(matriz, nodo_origen)\n",
        "    x_destino, y_destino = localiza_nodo_objetivo(matriz, nodo_destino)\n",
        "    \n",
        "    distancia = abs(x_destino - x_origen) + abs(y_destino - y_origen)\n",
        "    \n",
        "    return distancia\n",
        "\n",
        "def resoluble(matriz_inicial):\n",
        "    nodos = list()\n",
        "    matriz_2d = list()\n",
        "    sum = 0\n",
        "\n",
        "    instanciar(matriz_inicial, nodos)         # Instancia cada una de las casillas y las almacena en una lista\n",
        "    convierte_a_1d(matriz_inicial, matriz_2d) # Convierte la matriz en un arreglo unidimensional para faciliar la búsqueda de los \"menores siguientes\"\n",
        "\n",
        "    for i in nodos:\n",
        "        i.menores = retorna_menores(i.nodo, matriz_2d) # Retorna las casillas siguientes menores a la casilla objetivo\n",
        "        sum += len(i.menores)                          # Contabiliza la cantidad de casillas menores\n",
        "\n",
        "    # Calcula la distancia Manhattan entre la casilla de origen y la casilla objetivo\n",
        "    sum += calc_dist_manhattan(9, matriz_inicial[2][2], matriz_inicial) # Y lo suma a la cantidad de menores contados\n",
        "\n",
        "    # Si el resultado es par la matriz es resoluble\n",
        "    if sum % 2 == 0:\n",
        "        return True\n",
        "    else:\n",
        "        return False"
      ],
      "execution_count": 0,
      "outputs": []
    },
    {
      "cell_type": "markdown",
      "metadata": {
        "id": "tLz8w1ZhgFoQ",
        "colab_type": "text"
      },
      "source": [
        "### Función A*"
      ]
    },
    {
      "cell_type": "code",
      "metadata": {
        "id": "2b1s3SncgFop",
        "colab_type": "code",
        "colab": {}
      },
      "source": [
        "def a_estrella(edo_inicial):\n",
        "    if resoluble(edo_inicial):\n",
        "        print(\"Matriz resoluble\")\n",
        "\n",
        "        # Inicializa las estructuras de datos\n",
        "        iteracion = 0                                   # Valor de G\n",
        "        nodo_en_blanco = 9                              # Nodo en blanco\n",
        "        estado_inicial = Estado(\"inicio\", mtrz_inicial) # Estado inicial\n",
        "        estado_inicial.g = iteracion\n",
        "        estado_inicial.calcula_f(mtrz_objetivo)         # Calcula la función de evaluación del estado inicial\n",
        "        frontera = list()                               # Lista abierta\n",
        "        explorado = list()                              # Lista cerrada\n",
        "        explorado.append(estado_inicial)\n",
        "\n",
        "        while True:\n",
        "            nodo = explorado[-1] # Último sucesor de la lista de explorados\n",
        "\n",
        "            # Si el nodo es la solución\n",
        "            if nodo.solucion():\n",
        "                # Se retrocede entre los padres de los nodos hasta construir el camino\n",
        "                camino = list()\n",
        "                estado = nodo\n",
        "                while estado.matriz != mtrz_inicial:\n",
        "                    camino.append(estado.camino)\n",
        "                    estado = estado.padre\n",
        "                camino.reverse()\n",
        "                print(\"Camino encontrado: \", end=\" \")\n",
        "                # Imprime el camino\n",
        "                for i in camino:\n",
        "                    print(i, end=\" --> \")\n",
        "                print()\n",
        "                # Imprime la matriz inicial\n",
        "                for i in estado_inicial.matriz:\n",
        "                    print(i)\n",
        "                print()\n",
        "                # Imprime el nodo actual resuelto\n",
        "                for i in nodo.matriz:\n",
        "                    print(i)\n",
        "                print(\"El tamaño de la solución es de {}\".format(len(camino)))\n",
        "                print(\"{} estados visitados en total (frontera y explorados)\".format(len(frontera)+len(explorado)))\n",
        "                return\n",
        "\n",
        "            sucesores = nodo.expandir(nodo_en_blanco) # Si no halló solución, expande los estados sucesores\n",
        "            # Si algunos de los estados sucesores ya fue explorado se ignora\n",
        "            remover = list()\n",
        "            for i in sucesores:\n",
        "                for j in explorado:\n",
        "                    if i.matriz == j.matriz:\n",
        "                        remover.append(i)\n",
        "            \n",
        "            try:\n",
        "                for i in remover:\n",
        "                    sucesores.remove(i)\n",
        "            except ValueError:\n",
        "                pass\n",
        "            \n",
        "            # Para cada sucesor...\n",
        "            for i in sucesores:\n",
        "                i.g = iteracion            # Calcula la\n",
        "                i.calcula_f(mtrz_objetivo) # función de evaluación\n",
        "                frontera.append(i)         # y lo añade a la frontera\n",
        "            \n",
        "            min_f_frontera = obtiene_min_f(frontera) # el nodo de frontera con la mínima función de costo\n",
        "            explorado.append(min_f_frontera)         # pasa a la lista de explorados,\n",
        "            frontera.remove(min_f_frontera)          # y se remueve de la lista de fronterizos\n",
        "            \n",
        "            iteracion += 1\n",
        "    else:\n",
        "        print(\"Matriz irresoluble\")"
      ],
      "execution_count": 0,
      "outputs": []
    },
    {
      "cell_type": "markdown",
      "metadata": {
        "colab_type": "text",
        "id": "5Pz0Su1TQ2oR"
      },
      "source": [
        "### Datos"
      ]
    },
    {
      "cell_type": "code",
      "metadata": {
        "colab_type": "code",
        "id": "f5LmJhLTQ2oU",
        "outputId": "a76bd742-c3f4-4614-dfa0-2045febc759d",
        "colab": {
          "base_uri": "https://localhost:8080/",
          "height": 34
        }
      },
      "source": [
        "# Matriz objetivo\n",
        "mtrz_objetivo = [\n",
        "    [1, 2, 3],\n",
        "    [4, 5, 6],\n",
        "    [7, 8, 9]\n",
        "]\n",
        "\n",
        "# Matriz inicial\n",
        "mtrz_inicial = [\n",
        "    [2, 3, 6],\n",
        "    [9, 4, 8],\n",
        "    [1, 7, 5]\n",
        "]\n",
        "\n",
        "\"\"\"\n",
        "# FÁCIL\n",
        "mtrz_inicial = [\n",
        "    [2, 3, 9],\n",
        "    [1, 4, 6],\n",
        "    [7, 5, 8]\n",
        "]\n",
        "\n",
        "mtrz_inicial = [\n",
        "    [2, 3, 6],\n",
        "    [9, 4, 8],\n",
        "    [1, 7, 5]\n",
        "]\n",
        "\n",
        "# MUY PROFUNDO\n",
        "mtrz_inicial = [\n",
        "    [9, 2, 3],\n",
        "    [1, 5, 7],\n",
        "    [4, 8, 6]\n",
        "]\n",
        "\"\"\""
      ],
      "execution_count": 0,
      "outputs": [
        {
          "output_type": "execute_result",
          "data": {
            "text/plain": [
              "'\\n# FÁCIL\\nmtrz_inicial = [\\n    [2, 3, 9],\\n    [1, 4, 6],\\n    [7, 5, 8]\\n]\\n\\nmtrz_inicial = [\\n    [2, 3, 6],\\n    [9, 4, 8],\\n    [1, 7, 5]\\n]\\n\\n# MUY PROFUNDO\\nmtrz_inicial = [\\n    [9, 2, 3],\\n    [1, 5, 7],\\n    [4, 8, 6]\\n]\\n'"
            ]
          },
          "metadata": {
            "tags": []
          },
          "execution_count": 55
        }
      ]
    },
    {
      "cell_type": "markdown",
      "metadata": {
        "id": "EqqtWRr9gFq6",
        "colab_type": "text"
      },
      "source": [
        "### Main"
      ]
    },
    {
      "cell_type": "code",
      "metadata": {
        "scrolled": false,
        "id": "o1z8_8pEgFrE",
        "colab_type": "code",
        "colab": {},
        "outputId": "3d98b637-ed52-4a4b-904b-6fd09ae1ed0f"
      },
      "source": [
        "%%time\n",
        "a_estrella(mtrz_inicial)"
      ],
      "execution_count": 0,
      "outputs": [
        {
          "output_type": "stream",
          "text": [
            "Matriz resoluble\n",
            "Camino encontrado:  abajo --> derecha --> derecha --> arriba --> arriba --> izquierda --> izquierda --> abajo --> derecha --> abajo --> derecha --> \n",
            "[2, 3, 6]\n",
            "[9, 4, 8]\n",
            "[1, 7, 5]\n",
            "\n",
            "[1, 2, 3]\n",
            "[4, 5, 6]\n",
            "[7, 8, 9]\n",
            "El tamaño de la solución es de 11\n",
            "1662 estados visitados en total (frontera y explorados)\n",
            "CPU times: user 508 ms, sys: 3.71 ms, total: 511 ms\n",
            "Wall time: 509 ms\n"
          ],
          "name": "stdout"
        }
      ]
    }
  ]
}